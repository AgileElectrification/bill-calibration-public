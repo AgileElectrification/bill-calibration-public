{
 "cells": [
  {
   "cell_type": "code",
   "execution_count": 2,
   "id": "d40de582-7c17-4f9a-b3ac-83a29f3dfad0",
   "metadata": {},
   "outputs": [
    {
     "name": "stdout",
     "output_type": "stream",
     "text": [
      "agile_electrification.bill_calibration: 0.0.1\n",
      "keras: 2.14.0\n",
      "tensorflow: 2.14.0\n",
      "xgboost: 2.0.3\n"
     ]
    }
   ],
   "source": [
    "from agile_electrification import bill_calibration\n",
    "import keras\n",
    "import tensorflow as tf\n",
    "import xgboost\n",
    "\n",
    "print(\"agile_electrification.bill_calibration:\", bill_calibration.__version__)\n",
    "print(\"keras:\",keras.__version__)\n",
    "print(\"tensorflow:\", tf.__version__)\n",
    "print(\"xgboost:\", xgboost.__version__)"
   ]
  }
 ],
 "metadata": {
  "kernelspec": {
   "display_name": "Python 3 (ipykernel)",
   "language": "python",
   "name": "python3"
  },
  "language_info": {
   "codemirror_mode": {
    "name": "ipython",
    "version": 3
   },
   "file_extension": ".py",
   "mimetype": "text/x-python",
   "name": "python",
   "nbconvert_exporter": "python",
   "pygments_lexer": "ipython3",
   "version": "3.11.6"
  }
 },
 "nbformat": 4,
 "nbformat_minor": 5
}
