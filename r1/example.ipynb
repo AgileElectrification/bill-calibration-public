{
 "cells": [
  {
   "cell_type": "markdown",
   "metadata": {},
   "source": [
    "1. Installing required packages"
   ]
  },
  {
   "cell_type": "code",
   "execution_count": null,
   "metadata": {},
   "outputs": [],
   "source": [
    "%pip install --upgrade --quiet keras tensorflow pandas numpy matplotlib\n",
    "\n",
    "import keras\n",
    "import tensorflow\n",
    "import pandas as pd\n",
    "import numpy as np\n",
    "import matplotlib\n",
    "import matplotlib.pyplot as plt\n",
    "\n",
    "print(f'keras version: {keras.__version__}')\n",
    "print(f'tensorflow version: {tensorflow.__version__}')\n",
    "print(f'pandas version: {pd.__version__}')\n",
    "print(f'numpy version: {np.__version__}')\n",
    "print(f'matplotlib version: {matplotlib.__version__}')"
   ]
  },
  {
   "cell_type": "markdown",
   "metadata": {},
   "source": [
    "2. Load test data"
   ]
  },
  {
   "cell_type": "code",
   "execution_count": null,
   "metadata": {},
   "outputs": [],
   "source": [
    "import pandas as pd\n",
    "\n",
    "house_data = pd.read_json('data/house_data.json')\n",
    "weather_data_annual = pd.read_json('data/weather_data_annual.json')\n",
    "annual_true_output = pd.read_json('data/true_output_annual.json')"
   ]
  },
  {
   "cell_type": "markdown",
   "metadata": {},
   "source": [
    "3. Convert Pandas Dataframe to Numpy matrix"
   ]
  },
  {
   "cell_type": "code",
   "execution_count": null,
   "metadata": {},
   "outputs": [],
   "source": [
    "import json\n",
    "\n",
    "def __convert_to_input_house(house_df):\n",
    "    data_dict = pd.read_csv('data/data_dictionary.csv')\n",
    "    non_zero_std_column_list = json.loads(open('data/non_zero_std_column_list.json').read())\n",
    "    columns = house_df.columns\n",
    "\n",
    "    new_house_data = house_df.copy()\n",
    "    new_house_dict_list = new_house_data.to_dict(orient='records')\n",
    "\n",
    "    converted_house_dict_list = []\n",
    "    for house_dict in new_house_dict_list:\n",
    "        converted_house_dict = {}\n",
    "        for key, value in house_dict.items():\n",
    "            data_dict_rows = data_dict[data_dict['hpxml_key'] == key]\n",
    "            if not data_dict_rows.empty:\n",
    "                data_dict_row = data_dict_rows.iloc[0]\n",
    "                if data_dict_row['value'] in ['__double__', '__int__']:\n",
    "                    converted_house_dict[data_dict_row['name']] = float(value)\n",
    "                else:\n",
    "                    for idx, data_dict_row in data_dict_rows.iterrows():\n",
    "                        if data_dict_row['value'] == value:\n",
    "                            converted_house_dict[data_dict_row['name']] = 1\n",
    "\n",
    "        converted_house_dict_list.append(converted_house_dict)\n",
    "\n",
    "    converted_house_df = pd.DataFrame(converted_house_dict_list)\n",
    "\n",
    "    # if any column in non_zero_std_column_list does not exist in the converted_house_df, add it with value 0\n",
    "    for column in non_zero_std_column_list:\n",
    "        if column not in converted_house_df.columns:\n",
    "            converted_house_df[column] = 0\n",
    "\n",
    "    # fill NaN values with 0\n",
    "    converted_house_df.fillna(0, inplace=True)\n",
    "\n",
    "    # pick only the columns that are in the non_zero_std_column_list\n",
    "    converted_house_df = converted_house_df[non_zero_std_column_list]\n",
    "\n",
    "    return converted_house_df\n",
    "\n",
    "def __convert_to_input_weather_annual(weather_annual_df):\n",
    "    return weather_annual_df\n",
    "\n",
    "def __convert_to_input_true_output_annual(true_output_annual_df):\n",
    "    return true_output_annual_df\n",
    "\n",
    "def convert_to_input(df, mode):\n",
    "    assert mode in ['house', 'weather_annual', 'true_output_annual'], 'Invalid mode'\n",
    "    if mode == 'house':\n",
    "        return __convert_to_input_house(df)\n",
    "    elif mode == 'weather_annual':\n",
    "        return __convert_to_input_weather_annual(df)\n",
    "    elif mode == 'true_output_annual':\n",
    "        return __convert_to_input_true_output_annual(df)\n",
    "    else:\n",
    "        raise ValueError('Invalid mode')\n",
    "    \n",
    "house_data_input = convert_to_input(house_data, \"house\")\n",
    "weather_data_annual_input = convert_to_input(weather_data_annual, \"weather_annual\")\n",
    "annual_true_output_input = convert_to_input(annual_true_output, \"true_output_annual\")"
   ]
  },
  {
   "cell_type": "markdown",
   "metadata": {},
   "source": [
    "4. Load the trained model"
   ]
  },
  {
   "cell_type": "code",
   "execution_count": null,
   "metadata": {},
   "outputs": [],
   "source": [
    "annual_model = keras.models.load_model('models/annual.keras')\n",
    "annual_model.summary()"
   ]
  },
  {
   "cell_type": "markdown",
   "metadata": {},
   "source": [
    "5. Create the input data matrix"
   ]
  },
  {
   "cell_type": "code",
   "execution_count": null,
   "metadata": {},
   "outputs": [],
   "source": [
    "# concatenate the house and weather data side by side\n",
    "annual_input_data = np.concatenate((house_data_input, weather_data_annual_input), axis=1)"
   ]
  },
  {
   "cell_type": "markdown",
   "metadata": {},
   "source": [
    "6. Run the model"
   ]
  },
  {
   "cell_type": "code",
   "execution_count": null,
   "metadata": {},
   "outputs": [],
   "source": [
    "annual_output_data = annual_model.predict(annual_input_data, batch_size=annual_input_data.shape[0])"
   ]
  },
  {
   "cell_type": "markdown",
   "metadata": {},
   "source": [
    "7. Compare the results"
   ]
  },
  {
   "cell_type": "code",
   "execution_count": null,
   "metadata": {},
   "outputs": [],
   "source": [
    "# draw x-y plot of the predicted and true output\n",
    "plt.scatter(annual_output_data, annual_true_output_input)\n",
    "plt.xlabel('Predicted')\n",
    "plt.ylabel('Actual')\n",
    "plt.title('Annual Energy Consumption Prediction (Annual MMBTU)')\n",
    "\n",
    "# draw a line from the bottom left to the top right\n",
    "maxval = max(plt.xlim()[1], plt.ylim()[1])\n",
    "plt.plot([0, maxval], [0, maxval], color='red')\n",
    "\n",
    "plt.show()"
   ]
  }
 ],
 "metadata": {
  "kernelspec": {
   "display_name": "venv",
   "language": "python",
   "name": "python3"
  },
  "language_info": {
   "codemirror_mode": {
    "name": "ipython",
    "version": 3
   },
   "file_extension": ".py",
   "mimetype": "text/x-python",
   "name": "python",
   "nbconvert_exporter": "python",
   "pygments_lexer": "ipython3",
   "version": "3.11.8"
  }
 },
 "nbformat": 4,
 "nbformat_minor": 2
}
